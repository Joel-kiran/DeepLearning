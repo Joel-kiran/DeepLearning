{
 "cells": [
  {
   "cell_type": "code",
   "execution_count": 87,
   "id": "41d0d343",
   "metadata": {},
   "outputs": [],
   "source": [
    "from __future__ import print_function\n",
    "import argparse\n",
    "import torch\n",
    "import numpy as np\n",
    "import torch.nn as nn\n",
    "import torch.nn.functional as F\n",
    "import torch.optim as optim\n",
    "from torchvision import datasets, transforms\n",
    "from torch.optim.lr_scheduler import StepLR"
   ]
  },
  {
   "cell_type": "code",
   "execution_count": 88,
   "id": "68fcce98",
   "metadata": {},
   "outputs": [],
   "source": [
    "class CnnNet(torch.nn.Module):\n",
    "    def __init__(self):\n",
    "        super(CnnNet, self).__init__()\n",
    "\n",
    "        self.conv1 = torch.nn.Conv2d(1, 32, (3,3))\n",
    "        self.conv2 = torch.nn.Conv2d(32, 64, (3,3))\n",
    "\n",
    "        self.drop1 = torch.nn.Dropout2d(0.25)\n",
    "        self.drop2 = torch.nn.Dropout2d(0.5)\n",
    "\n",
    "        self.fc1 = torch.nn.Linear(9216, 128)\n",
    "        self.fc2 = torch.nn.Linear(128, 10)\n",
    "\n",
    "    def forward(self, x):\n",
    "        x = F.relu(self.conv1(x))\n",
    "        x = F.relu(self.conv2(x))\n",
    "        x = self.drop1(F.max_pool2d(x, 2))\n",
    "\n",
    "        x = x.flatten(1)\n",
    "        x = F.relu(self.fc1(x))\n",
    "        x = self.drop2(x)\n",
    "        x = self.fc2(x)\n",
    "\n",
    "        return F.log_softmax(x, 1)"
   ]
  },
  {
   "cell_type": "code",
   "execution_count": 89,
   "id": "9bcf1cc5",
   "metadata": {},
   "outputs": [],
   "source": [
    "def train( model, device, train_loader, optimizer,loss_fn, epoch):\n",
    "    train_loss=0\n",
    "    model.train()\n",
    "    no_batches=0\n",
    "    correct = 0\n",
    "    for batch_idx, (data, target) in enumerate(train_loader):\n",
    "        data, target = data.to(device), target.to(device)\n",
    "        optimizer.zero_grad()\n",
    "        output = model(data)\n",
    "        loss = loss_fn(output, target)\n",
    "        train_loss+=loss.item()\n",
    "        no_batches+=1\n",
    "        loss.backward()\n",
    "        optimizer.step()\n",
    "        pred = output.argmax(dim=1, keepdim=True)  # get the index of the max log-probability\n",
    "        correct += pred.eq(target.view_as(pred)).sum().item()\n",
    "    print(\"Epoch:\", epoch, \"sum loss:\", train_loss, \"batches\", no_batches, \"loss:\", train_loss/no_batches,\n",
    "         \"accuracy:\", 100. * correct / len(train_loader.dataset))  \n",
    "    return train_loss/no_batches, 100. * correct / len(train_loader.dataset)\n",
    "\n",
    "def test(model, device, test_loader):\n",
    "    model.eval()\n",
    "    test_loss = 0\n",
    "    correct = 0\n",
    "    loss_fn = nn.CrossEntropyLoss(reduction='sum')\n",
    "    with torch.no_grad():\n",
    "        for data, target in test_loader:\n",
    "            data, target = data.to(device), target.to(device)\n",
    "            output = model(data)\n",
    "            test_loss += loss_fn(output, target)  # sum up batch loss\n",
    "            pred = output.argmax(dim=1, keepdim=True)  # get the index of the max log-probability\n",
    "            correct += pred.eq(target.view_as(pred)).sum().item()\n",
    "\n",
    "    test_loss /= len(test_loader.dataset)\n",
    "\n",
    "    print('\\nTest set: Average loss: {:.4f}, Accuracy: {}/{} ({:.0f}%)\\n'.format(\n",
    "        test_loss, correct, len(test_loader.dataset),\n",
    "        100. * correct / len(test_loader.dataset)))\n",
    "    return test_loss, 100. * correct / len(test_loader.dataset)"
   ]
  },
  {
   "cell_type": "code",
   "execution_count": 90,
   "id": "c7ac5501",
   "metadata": {},
   "outputs": [],
   "source": [
    "use_cuda = torch.cuda.is_available()\n",
    "torch.manual_seed(1)\n",
    "\n",
    "device = torch.device(\"cuda\" if use_cuda else \"cpu\")\n",
    "\n",
    "train_kwargs = {'batch_size': 64}\n",
    "test_kwargs = {'batch_size': 64}\n",
    "if use_cuda:\n",
    "    cuda_kwargs = {'num_workers': 1,\n",
    "                   'pin_memory': True,\n",
    "                   'shuffle': True}\n",
    "    train_kwargs.update(cuda_kwargs)\n",
    "    test_kwargs.update(cuda_kwargs)\n",
    "\n",
    "transform=transforms.Compose([\n",
    "        transforms.ToTensor()\n",
    "        ])\n",
    "dataset1 = datasets.MNIST('../data', train=True, download=True, transform=transform)\n",
    "dataset2 = datasets.MNIST('../data', train=False, transform=transform)\n",
    "\n",
    "train_loader = torch.utils.data.DataLoader(dataset1,**train_kwargs)\n",
    "test_loader = torch.utils.data.DataLoader(dataset2, **test_kwargs)"
   ]
  },
  {
   "cell_type": "code",
   "execution_count": 91,
   "id": "ea1a6080",
   "metadata": {},
   "outputs": [],
   "source": [
    "def returnModelAccAndLoss(model, device, train_loader, test_loader, optimizer, loss, epoch, scheduler):\n",
    "    train_loss=[]\n",
    "    test_loss=[]\n",
    "    accuracy_train=[]\n",
    "    accuracy_test=[]\n",
    "    for epoch in range(1, epoch+1):\n",
    "        tr_loss, tr_accuracy=train(model, device, train_loader, optimizer, loss, epoch)\n",
    "        train_loss.append(tr_loss)\n",
    "        accuracy_train.append(tr_accuracy)\n",
    "        tst_loss, tst_accuracy = test(model, device, test_loader)\n",
    "        test_loss.append(tst_loss)\n",
    "        accuracy_test.append(tst_accuracy)\n",
    "        #scheduler.step()\n",
    "    return train_loss, accuracy_train, test_loss, accuracy_test"
   ]
  },
  {
   "cell_type": "code",
   "execution_count": 92,
   "id": "11d157ac",
   "metadata": {},
   "outputs": [
    {
     "name": "stdout",
     "output_type": "stream",
     "text": [
      "Epoch: 1 sum loss: 233.01537080912385 batches 938 loss: 0.24841723966857554 accuracy: 92.31833333333333\n",
      "\n",
      "Test set: Average loss: 0.0558, Accuracy: 9818/10000 (98%)\n",
      "\n",
      "Epoch: 2 sum loss: 89.41693266667426 batches 938 loss: 0.09532722032694484 accuracy: 97.19833333333334\n",
      "\n",
      "Test set: Average loss: 0.0410, Accuracy: 9860/10000 (99%)\n",
      "\n",
      "Epoch: 3 sum loss: 66.30973361223005 batches 938 loss: 0.07069267975717489 accuracy: 97.875\n",
      "\n",
      "Test set: Average loss: 0.0381, Accuracy: 9882/10000 (99%)\n",
      "\n",
      "Epoch: 4 sum loss: 56.91390318115009 batches 938 loss: 0.06067580296497877 accuracy: 98.25\n",
      "\n",
      "Test set: Average loss: 0.0341, Accuracy: 9890/10000 (99%)\n",
      "\n",
      "Epoch: 5 sum loss: 48.029251298547024 batches 938 loss: 0.051203892642374224 accuracy: 98.48\n",
      "\n",
      "Test set: Average loss: 0.0336, Accuracy: 9886/10000 (99%)\n",
      "\n",
      "Epoch: 6 sum loss: 43.02454366417078 batches 938 loss: 0.04586838343728228 accuracy: 98.63666666666667\n",
      "\n",
      "Test set: Average loss: 0.0332, Accuracy: 9896/10000 (99%)\n",
      "\n",
      "Epoch: 7 sum loss: 39.21512120243642 batches 938 loss: 0.04180716546101964 accuracy: 98.81\n",
      "\n",
      "Test set: Average loss: 0.0338, Accuracy: 9896/10000 (99%)\n",
      "\n",
      "Epoch: 8 sum loss: 35.224218271224345 batches 938 loss: 0.03755247150450357 accuracy: 98.94333333333333\n",
      "\n",
      "Test set: Average loss: 0.0328, Accuracy: 9888/10000 (99%)\n",
      "\n",
      "Epoch: 9 sum loss: 31.27415051954813 batches 938 loss: 0.033341311854528925 accuracy: 98.95166666666667\n",
      "\n",
      "Test set: Average loss: 0.0334, Accuracy: 9898/10000 (99%)\n",
      "\n",
      "Epoch: 10 sum loss: 32.10532551916913 batches 938 loss: 0.03422742592661954 accuracy: 99.02166666666666\n",
      "\n",
      "Test set: Average loss: 0.0310, Accuracy: 9905/10000 (99%)\n",
      "\n"
     ]
    }
   ],
   "source": [
    "epoch=10\n",
    "model = CnnNet().to(device)\n",
    "model_params = sum(p.numel() for p in model.parameters())\n",
    "optimizer = optim.Adadelta(model.parameters(), lr=1)\n",
    "scheduler = StepLR(optimizer, step_size=1, gamma=0.1)\n",
    "loss = nn.CrossEntropyLoss()\n",
    "train_loss_1, accuracy_train_1, test_loss_1, test_accuracy_1 = returnModelAccAndLoss(model, device, train_loader, test_loader, optimizer, loss, epoch, scheduler)\n",
    "\n"
   ]
  },
  {
   "cell_type": "code",
   "execution_count": 93,
   "id": "3c28a6f0",
   "metadata": {},
   "outputs": [
    {
     "name": "stdout",
     "output_type": "stream",
     "text": [
      "torch.Size([1199882])\n"
     ]
    }
   ],
   "source": [
    "from torch.nn.utils import (\n",
    "  parameters_to_vector as Params2Vec,\n",
    "  vector_to_parameters as Vec2Params\n",
    ")\n",
    "\n",
    "learnt_net = model\n",
    "theta_ast = Params2Vec(learnt_net.parameters())\n",
    "print(theta_ast.shape)\n",
    "\n",
    "infer_net = CnnNet()\n",
    "theta = Params2Vec(infer_net.parameters())\n",
    "\n",
    "loss_fn = torch.nn.NLLLoss()"
   ]
  },
  {
   "cell_type": "code",
   "execution_count": 94,
   "id": "369dd610",
   "metadata": {},
   "outputs": [],
   "source": [
    "def tau(alpha, theta, theta_ast):\n",
    "    return alpha * theta_ast + (1 - alpha) * theta"
   ]
  },
  {
   "cell_type": "code",
   "execution_count": 95,
   "id": "52852818",
   "metadata": {},
   "outputs": [],
   "source": [
    "\n",
    "train_losses = []\n",
    "train_accuracy=[]\n",
    "test_losses=[]\n",
    "test_accuracy=[]\n",
    "alphas=[]\n",
    "\n",
    "for alpha in torch.arange(-2, 3, 0.1):\n",
    "    loss=[]\n",
    "    correct=0\n",
    "    for _, (data, label) in enumerate(train_loader):\n",
    "         with torch.no_grad():\n",
    "            Vec2Params(tau(alpha, theta, theta_ast),  infer_net.parameters())\n",
    "            infer_net.eval()\n",
    "            prediction = infer_net(data)\n",
    "            loss.append(loss_fn(prediction, label).item())\n",
    "            pred = prediction.argmax(dim=1, keepdim=True)  # get the index of the max log-probability\n",
    "            correct += pred.eq(label.view_as(pred)).sum().item()\n",
    "    #print(loss)\n",
    "    train_losses.append(np.average(loss))\n",
    "    train_accuracy.append(correct/len(train_loader.dataset)*100)\n",
    "    alphas.append(alpha)\n",
    "\n",
    "for alpha in torch.arange(-2, 3, 0.1):\n",
    "    loss=[]\n",
    "    correct=0\n",
    "    for _, (data, label) in enumerate(test_loader):\n",
    "         with torch.no_grad():\n",
    "            Vec2Params(tau(alpha, theta, theta_ast),  infer_net.parameters())\n",
    "            infer_net.eval()\n",
    "            prediction = infer_net(data)\n",
    "            loss.append(loss_fn(prediction, label).item())\n",
    "            pred = prediction.argmax(dim=1, keepdim=True)  # get the index of the max log-probability\n",
    "            correct += pred.eq(label.view_as(pred)).sum().item()\n",
    "\n",
    "    test_accuracy.append(correct/len(test_loader.dataset)*100)\n",
    "    test_losses.append(np.average(loss))\n",
    "            \n",
    "\n",
    "\n"
   ]
  },
  {
   "cell_type": "code",
   "execution_count": 97,
   "id": "5d48d4d1",
   "metadata": {},
   "outputs": [
    {
     "name": "stdout",
     "output_type": "stream",
     "text": [
      "50 50\n"
     ]
    },
    {
     "data": {
      "image/png": "[encoded data removed]",
      "text/plain": [
       "<Figure size 720x432 with 1 Axes>"
      ]
     },
     "metadata": {
      "needs_background": "light"
     },
     "output_type": "display_data"
    }
   ],
   "source": [
    "import matplotlib.pyplot as plt\n",
    "\n",
    "print(len(alphas), len(test_losses))\n",
    "\n",
    "plt1 = plt.figure(figsize=(10, 6))\n",
    "plt.plot(np.array(alphas), np.array(train_losses), label='training_loss')\n",
    "plt.plot(np.array(alphas), np.array(train_accuracy), label='training_accuracy')\n",
    "plt.plot(np.array(alphas), np.array(test_losses), label='test_loss', linestyle = 'dotted')\n",
    "plt.plot(np.array(alphas), np.array(test_accuracy), label='test_accuracy', linestyle = 'dotted')\n",
    "plt.yscale('log')\n",
    "# naming the x axis\n",
    "plt.xlabel('Alphas')\n",
    "# naming the y axis\n",
    "plt.ylabel('cross entropy') \n",
    "plt.legend()\n",
    "plt.title(\"Batch Size 64\")\n",
    "plt.show()\n",
    "\n",
    "\n"
   ]
  },
  {
   "cell_type": "code",
   "execution_count": null,
   "id": "62c8955d",
   "metadata": {},
   "outputs": [],
   "source": []
  },
  {
   "cell_type": "code",
   "execution_count": null,
   "id": "d1567166",
   "metadata": {},
   "outputs": [],
   "source": []
  }
 ],
 "metadata": {
  "kernelspec": {
   "display_name": "Python 3 (ipykernel)",
   "language": "python",
   "name": "python3"
  },
  "language_info": {
   "codemirror_mode": {
    "name": "ipython",
    "version": 3
   },
   "file_extension": ".py",
   "mimetype": "text/x-python",
   "name": "python",
   "nbconvert_exporter": "python",
   "pygments_lexer": "ipython3",
   "version": "3.8.12"
  }
 },
 "nbformat": 4,
 "nbformat_minor": 5
}
