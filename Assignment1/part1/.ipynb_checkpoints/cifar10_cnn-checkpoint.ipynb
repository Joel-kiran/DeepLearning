{
 "cells": [
  {
   "cell_type": "code",
   "execution_count": 5,
   "id": "ae1ec834",
   "metadata": {},
   "outputs": [],
   "source": [
    "from __future__ import print_function\n",
    "import argparse\n",
    "import torch\n",
    "import numpy as np\n",
    "import torch.nn as nn\n",
    "import torch.nn.functional as F\n",
    "import torch.optim as optim\n",
    "from torchvision import datasets, transforms\n",
    "from torch.optim.lr_scheduler import StepLR"
   ]
  },
  {
   "cell_type": "code",
   "execution_count": 39,
   "id": "3eacd14d",
   "metadata": {},
   "outputs": [],
   "source": [
    "class CnnNet(nn.Module):  \n",
    "    def __init__(self):\n",
    "        super(CnnNet, self).__init__()\n",
    "        self.conv1 = nn.Conv2d(3, 32, 3)\n",
    "        self.pool = nn.MaxPool2d(2, 2)\n",
    "        self.conv2 = nn.Conv2d(32, 64, 3)\n",
    "        self.fc1 = nn.Linear(64 * 6 * 6, 1024)\n",
    "        self.fc2 = nn.Linear(1024, 10)\n",
    "        self.dropout1 = nn.Dropout(0.25)\n",
    "        self.dropout2 = nn.Dropout(0.5)\n",
    "        \n",
    "        \n",
    "    def forward(self, x):\n",
    "        x = self.pool(F.relu(self.conv1(x)))\n",
    "        x = self.pool(F.relu(self.conv2(x)))\n",
    "        x = self.dropout1(x)\n",
    "        x = x.view(-1, 64 * 6 * 6)\n",
    "        x = F.relu(self.fc1(x))\n",
    "        x = self.fc2(x)\n",
    "        output = F.log_softmax(x, dim=1)\n",
    "        return output\n",
    "        "
   ]
  },
  {
   "cell_type": "code",
   "execution_count": 29,
   "id": "87da0005",
   "metadata": {},
   "outputs": [],
   "source": [
    "class CnnNet2(nn.Module):  \n",
    "    def __init__(self):\n",
    "        super(CnnNet2, self).__init__()\n",
    "        self.conv1 = nn.Conv2d(3, 32, 3)\n",
    "        self.pool = nn.MaxPool2d(2, 2)\n",
    "        self.fc1 = nn.Linear(7200, 1024)\n",
    "        self.fc2 = nn.Linear(1024, 256)\n",
    "        self.fc3 = nn.Linear(256, 10) \n",
    "        self.dropout1 = nn.Dropout(0.25)\n",
    "        self.dropout2 = nn.Dropout(0.5)\n",
    "        \n",
    "        \n",
    "    def forward(self, x):\n",
    "        x = self.pool(F.relu(self.conv1(x)))\n",
    "        x = self.dropout1(x)\n",
    "        x = x.view(x.shape[0], -1)\n",
    "        x = F.relu(self.fc1(x))\n",
    "        x = F.relu(self.fc2(x))\n",
    "        x = self.dropout2(x)\n",
    "        x = self.fc3(x)\n",
    "        output = F.log_softmax(x, dim=1)\n",
    "        return output\n",
    "        "
   ]
  },
  {
   "cell_type": "code",
   "execution_count": 34,
   "id": "9ba7b70a",
   "metadata": {},
   "outputs": [],
   "source": [
    "class CnnNet3(nn.Module):  \n",
    "    def __init__(self):\n",
    "        super(CnnNet3, self).__init__()\n",
    "        self.conv1 = nn.Conv2d(3, 32, 3)\n",
    "        self.pool = nn.MaxPool2d(2, 2)\n",
    "        self.conv2 = nn.Conv2d(32, 64, 3)\n",
    "        self.conv3 = nn.Conv2d(64, 128, 3)\n",
    "        self.fc1 = nn.Linear(512, 1024)\n",
    "        self.fc2 = nn.Linear(1024, 256)\n",
    "        self.fc3 = nn.Linear(256, 10) \n",
    "        self.dropout1 = nn.Dropout(0.25)\n",
    "        self.dropout2 = nn.Dropout(0.5)\n",
    "        \n",
    "        \n",
    "    def forward(self, x):\n",
    "        x = self.pool(F.relu(self.conv1(x)))\n",
    "        x = self.pool(F.relu(self.conv2(x)))\n",
    "        x = self.pool(F.relu(self.conv3(x)))\n",
    "        x = self.dropout1(x)\n",
    "        x = x.view(x.shape[0], -1)\n",
    "        x = F.relu(self.fc1(x))\n",
    "        x = F.relu(self.fc2(x))\n",
    "        x = self.dropout2(x)\n",
    "        x = self.fc3(x)\n",
    "        output = F.log_softmax(x, dim=1)\n",
    "        return output\n",
    "        "
   ]
  },
  {
   "cell_type": "code",
   "execution_count": 22,
   "id": "e7ecc506",
   "metadata": {},
   "outputs": [],
   "source": [
    "def train( model, device, train_loader, optimizer,loss_fn, epoch):\n",
    "    train_loss=0\n",
    "    model.train()\n",
    "    no_batches=0\n",
    "    correct = 0\n",
    "    for batch_idx, (data, target) in enumerate(train_loader):\n",
    "        data, target = data.to(device), target.to(device)\n",
    "        optimizer.zero_grad()\n",
    "        output = model(data)\n",
    "        loss = loss_fn(output, target)\n",
    "        train_loss+=loss.item()\n",
    "        no_batches+=1\n",
    "        loss.backward()\n",
    "        optimizer.step()\n",
    "        pred = output.argmax(dim=1, keepdim=True)  # get the index of the max log-probability\n",
    "        correct += pred.eq(target.view_as(pred)).sum().item()\n",
    "    print(\"Epoch:\", epoch, \"sum loss:\", train_loss, \"batches\", no_batches, \"loss:\", train_loss/no_batches,\n",
    "         \"accuracy:\", 100. * correct / len(train_loader.dataset))  \n",
    "    return train_loss/no_batches, 100. * correct / len(train_loader.dataset)\n",
    "                                                       \n",
    "                                                       \n",
    "def test(model, device, test_loader):\n",
    "    model.eval()\n",
    "    test_loss = 0\n",
    "    correct = 0\n",
    "    loss_fn = nn.CrossEntropyLoss(reduction='sum')\n",
    "    with torch.no_grad():\n",
    "        for data, target in test_loader:\n",
    "            data, target = data.to(device), target.to(device)\n",
    "            output = model(data)\n",
    "            test_loss += loss_fn(output, target)  # sum up batch loss\n",
    "            pred = output.argmax(dim=1, keepdim=True)  # get the index of the max log-probability\n",
    "            correct += pred.eq(target.view_as(pred)).sum().item()\n",
    "\n",
    "    test_loss /= len(test_loader.dataset)\n",
    "\n",
    "    print('\\nTest set: Average loss: {:.4f}, Accuracy: {}/{} ({:.0f}%)\\n'.format(\n",
    "        test_loss, correct, len(test_loader.dataset),\n",
    "        100. * correct / len(test_loader.dataset)))\n",
    "    return test_loss, 100. * correct / len(test_loader.dataset)"
   ]
  },
  {
   "cell_type": "code",
   "execution_count": 23,
   "id": "6de0d3a8",
   "metadata": {},
   "outputs": [
    {
     "name": "stdout",
     "output_type": "stream",
     "text": [
      "Files already downloaded and verified\n"
     ]
    }
   ],
   "source": [
    "use_cuda = torch.cuda.is_available()\n",
    "torch.manual_seed(1)\n",
    "\n",
    "device = torch.device(\"cuda\" if use_cuda else \"cpu\")\n",
    "\n",
    "train_kwargs = {'batch_size': 512}\n",
    "test_kwargs = {'batch_size': 512}\n",
    "if use_cuda:\n",
    "    cuda_kwargs = {'num_workers': 1,\n",
    "                   'pin_memory': True,\n",
    "                   'shuffle': True}\n",
    "    train_kwargs.update(cuda_kwargs)\n",
    "    test_kwargs.update(cuda_kwargs)\n",
    "\n",
    "transform=transforms.Compose([\n",
    "        transforms.ToTensor()\n",
    "        ])\n",
    "dataset1 = datasets.CIFAR10('../data', train=True, download=True, transform=transform)\n",
    "dataset2 = datasets.CIFAR10('../data', train=False, transform=transform)\n",
    "train_loader = torch.utils.data.DataLoader(dataset1,**train_kwargs)\n",
    "test_loader = torch.utils.data.DataLoader(dataset2, **test_kwargs)"
   ]
  },
  {
   "cell_type": "code",
   "execution_count": 24,
   "id": "5f900615",
   "metadata": {},
   "outputs": [],
   "source": [
    "def returnModelAccAndLoss(model, device, train_loader, test_loader, optimizer, loss, epoch, scheduler):\n",
    "    train_loss=[]\n",
    "    test_loss=[]\n",
    "    accuracy_train=[]\n",
    "    accuracy_test=[]\n",
    "    for epoch in range(1, epoch+1):\n",
    "        tr_loss, tr_accuracy=train(model, device, train_loader, optimizer, loss, epoch)\n",
    "        train_loss.append(tr_loss)\n",
    "        accuracy_train.append(tr_accuracy)\n",
    "    return train_loss, accuracy_train, test_loss, accuracy_test"
   ]
  },
  {
   "cell_type": "code",
   "execution_count": null,
   "id": "98e9b6ba",
   "metadata": {},
   "outputs": [
    {
     "name": "stdout",
     "output_type": "stream",
     "text": [
      "Epoch: 1 sum loss: 225.45200204849243 batches 98 loss: 2.300530633147882 accuracy: 11.11\n",
      "Epoch: 2 sum loss: 224.98194789886475 batches 98 loss: 2.295734162233314 accuracy: 13.58\n",
      "Epoch: 3 sum loss: 224.41935920715332 batches 98 loss: 2.289993461297483 accuracy: 14.064\n",
      "Epoch: 4 sum loss: 223.62206363677979 batches 98 loss: 2.2818577922120387 accuracy: 15.306\n",
      "Epoch: 5 sum loss: 222.45279121398926 batches 98 loss: 2.269926440959074 accuracy: 17.176\n",
      "Epoch: 6 sum loss: 220.56384921073914 batches 98 loss: 2.2506515225585626 accuracy: 18.522\n",
      "Epoch: 7 sum loss: 217.8243215084076 batches 98 loss: 2.222697158249057 accuracy: 19.738\n",
      "Epoch: 8 sum loss: 214.5442762374878 batches 98 loss: 2.1892273085457936 accuracy: 21.096\n",
      "Epoch: 9 sum loss: 211.43577456474304 batches 98 loss: 2.157507903721868 accuracy: 22.648\n",
      "Epoch: 10 sum loss: 208.53689432144165 batches 98 loss: 2.1279274930759353 accuracy: 24.056\n",
      "Epoch: 11 sum loss: 205.452645778656 batches 98 loss: 2.0964555691699593 accuracy: 25.652\n",
      "Epoch: 12 sum loss: 202.246750831604 batches 98 loss: 2.0637423554245307 accuracy: 26.89\n",
      "Epoch: 13 sum loss: 199.49178230762482 batches 98 loss: 2.0356304317104574 accuracy: 27.768\n",
      "Epoch: 14 sum loss: 197.34858512878418 batches 98 loss: 2.0137610727426956 accuracy: 28.376\n",
      "Epoch: 15 sum loss: 195.7150321006775 batches 98 loss: 1.9970921642926274 accuracy: 28.848\n",
      "Epoch: 16 sum loss: 194.4840487241745 batches 98 loss: 1.984531109430352 accuracy: 29.332\n",
      "Epoch: 17 sum loss: 193.29422342777252 batches 98 loss: 1.9723900349772707 accuracy: 30.078\n",
      "Epoch: 18 sum loss: 192.12563502788544 batches 98 loss: 1.9604656635498514 accuracy: 30.274\n",
      "Epoch: 19 sum loss: 191.08318102359772 batches 98 loss: 1.9498283777918135 accuracy: 30.964\n",
      "Epoch: 20 sum loss: 189.98199045658112 batches 98 loss: 1.9385917393528684 accuracy: 31.24\n",
      "Epoch: 21 sum loss: 188.94058454036713 batches 98 loss: 1.9279651483710931 accuracy: 31.644\n",
      "Epoch: 22 sum loss: 187.62209963798523 batches 98 loss: 1.9145112207957677 accuracy: 32.448\n",
      "Epoch: 23 sum loss: 186.50142574310303 batches 98 loss: 1.9030757728888064 accuracy: 32.852\n",
      "Epoch: 24 sum loss: 185.30067384243011 batches 98 loss: 1.8908232024737768 accuracy: 33.448\n",
      "Epoch: 25 sum loss: 184.08546137809753 batches 98 loss: 1.8784230752867095 accuracy: 33.802\n",
      "Epoch: 26 sum loss: 182.79881751537323 batches 98 loss: 1.8652940562793188 accuracy: 34.368\n",
      "Epoch: 27 sum loss: 181.44979465007782 batches 98 loss: 1.8515285168375288 accuracy: 35.14\n",
      "Epoch: 28 sum loss: 180.2401123046875 batches 98 loss: 1.8391848194355866 accuracy: 35.36\n",
      "Epoch: 29 sum loss: 178.87308406829834 batches 98 loss: 1.82523555171733 accuracy: 35.936\n",
      "Epoch: 30 sum loss: 177.74706900119781 batches 98 loss: 1.813745602053039 accuracy: 36.25\n",
      "Epoch: 31 sum loss: 176.40185642242432 batches 98 loss: 1.8000189430859623 accuracy: 36.782\n",
      "Epoch: 32 sum loss: 175.13362729549408 batches 98 loss: 1.787077829545858 accuracy: 37.412\n",
      "Epoch: 33 sum loss: 173.74435377120972 batches 98 loss: 1.7729015690939767 accuracy: 37.736\n",
      "Epoch: 34 sum loss: 172.53526747226715 batches 98 loss: 1.7605639537986444 accuracy: 38.42\n",
      "Epoch: 35 sum loss: 171.32897555828094 batches 98 loss: 1.74825485263552 accuracy: 38.488\n",
      "Epoch: 36 sum loss: 170.11900162696838 batches 98 loss: 1.7359081798670244 accuracy: 39.066\n",
      "Epoch: 37 sum loss: 168.91726779937744 batches 98 loss: 1.7236455897895657 accuracy: 39.34\n",
      "Epoch: 38 sum loss: 167.83734905719757 batches 98 loss: 1.7126260107877302 accuracy: 39.768\n",
      "Epoch: 39 sum loss: 166.78606748580933 batches 98 loss: 1.701898647814381 accuracy: 40.126\n",
      "Epoch: 40 sum loss: 165.65322816371918 batches 98 loss: 1.6903390628950936 accuracy: 40.514\n",
      "Epoch: 41 sum loss: 164.578373670578 batches 98 loss: 1.6793711599038572 accuracy: 40.66\n",
      "Epoch: 42 sum loss: 163.63183331489563 batches 98 loss: 1.6697125848458738 accuracy: 41.002\n",
      "Epoch: 43 sum loss: 162.4210844039917 batches 98 loss: 1.6573580041223643 accuracy: 41.496\n",
      "Epoch: 44 sum loss: 161.60114777088165 batches 98 loss: 1.6489913037845068 accuracy: 41.802\n",
      "Epoch: 45 sum loss: 160.57070982456207 batches 98 loss: 1.6384766308628782 accuracy: 41.872\n",
      "Epoch: 46 sum loss: 159.5898835659027 batches 98 loss: 1.6284681996520685 accuracy: 42.242\n",
      "Epoch: 47 sum loss: 158.6175924539566 batches 98 loss: 1.6185468617750673 accuracy: 42.65\n",
      "Epoch: 48 sum loss: 157.88267290592194 batches 98 loss: 1.6110476827134892 accuracy: 42.678\n",
      "Epoch: 49 sum loss: 156.97565722465515 batches 98 loss: 1.6017924206597465 accuracy: 43.184\n",
      "Epoch: 50 sum loss: 156.29621505737305 batches 98 loss: 1.5948593373201332 accuracy: 43.326\n",
      "Epoch: 51 sum loss: 155.40834736824036 batches 98 loss: 1.5857994629412282 accuracy: 43.438\n",
      "Epoch: 52 sum loss: 154.87712955474854 batches 98 loss: 1.580378873007638 accuracy: 43.596\n",
      "Epoch: 53 sum loss: 154.0577037334442 batches 98 loss: 1.572017385035145 accuracy: 44.046\n",
      "Epoch: 54 sum loss: 153.24865639209747 batches 98 loss: 1.563761799919362 accuracy: 44.252\n",
      "Epoch: 55 sum loss: 152.43380451202393 batches 98 loss: 1.5554469848165706 accuracy: 44.536\n",
      "Epoch: 56 sum loss: 151.81178295612335 batches 98 loss: 1.5490998260828914 accuracy: 44.606\n",
      "Epoch: 57 sum loss: 151.215026140213 batches 98 loss: 1.5430104708185002 accuracy: 44.892\n",
      "Epoch: 58 sum loss: 150.62142515182495 batches 98 loss: 1.5369533178757648 accuracy: 45.184\n",
      "Epoch: 59 sum loss: 149.95600283145905 batches 98 loss: 1.5301632941985617 accuracy: 45.558\n",
      "Epoch: 60 sum loss: 149.41021525859833 batches 98 loss: 1.5245940332510033 accuracy: 45.712\n",
      "Epoch: 61 sum loss: 148.7635579109192 batches 98 loss: 1.5179954888869305 accuracy: 46.068\n",
      "Epoch: 62 sum loss: 148.23292434215546 batches 98 loss: 1.5125808606342392 accuracy: 46.076\n",
      "Epoch: 63 sum loss: 147.8041319847107 batches 98 loss: 1.5082054284154152 accuracy: 46.208\n",
      "Epoch: 64 sum loss: 147.2716658115387 batches 98 loss: 1.5027721001177419 accuracy: 46.274\n",
      "Epoch: 65 sum loss: 146.70408284664154 batches 98 loss: 1.496980437210628 accuracy: 46.718\n",
      "Epoch: 66 sum loss: 146.29998123645782 batches 98 loss: 1.4928569513924268 accuracy: 46.64\n",
      "Epoch: 67 sum loss: 145.60321140289307 batches 98 loss: 1.485747055131562 accuracy: 47.05\n",
      "Epoch: 68 sum loss: 145.22557163238525 batches 98 loss: 1.4818935880855637 accuracy: 47.008\n",
      "Epoch: 69 sum loss: 144.74020504951477 batches 98 loss: 1.4769408678521916 accuracy: 47.21\n",
      "Epoch: 70 sum loss: 144.47061836719513 batches 98 loss: 1.4741899833387258 accuracy: 47.22\n",
      "Epoch: 71 sum loss: 144.1316808462143 batches 98 loss: 1.4707314372062683 accuracy: 47.412\n",
      "Epoch: 72 sum loss: 143.42666602134705 batches 98 loss: 1.4635374083810924 accuracy: 47.714\n",
      "Epoch: 73 sum loss: 143.1094160079956 batches 98 loss: 1.460300163346894 accuracy: 47.65\n",
      "Epoch: 74 sum loss: 142.73277688026428 batches 98 loss: 1.4564569069414723 accuracy: 47.912\n",
      "Epoch: 75 sum loss: 142.4682401418686 batches 98 loss: 1.4537575524680468 accuracy: 48.014\n",
      "Epoch: 76 sum loss: 142.17569780349731 batches 98 loss: 1.4507724265662991 accuracy: 48.396\n",
      "Epoch: 77 sum loss: 141.7637368440628 batches 98 loss: 1.4465687433067633 accuracy: 48.234\n",
      "Epoch: 78 sum loss: 141.36011219024658 batches 98 loss: 1.4424501243902712 accuracy: 48.652\n",
      "Epoch: 79 sum loss: 140.9228423833847 batches 98 loss: 1.4379881875855582 accuracy: 48.55\n",
      "Epoch: 80 sum loss: 140.43030548095703 batches 98 loss: 1.432962300826092 accuracy: 48.94\n",
      "Epoch: 81 sum loss: 140.29949760437012 batches 98 loss: 1.4316275265752052 accuracy: 48.97\n",
      "Epoch: 82 sum loss: 140.02574801445007 batches 98 loss: 1.428834163412756 accuracy: 48.978\n",
      "Epoch: 83 sum loss: 139.71014487743378 batches 98 loss: 1.4256137232391202 accuracy: 49.214\n",
      "Epoch: 84 sum loss: 139.1813963651657 batches 98 loss: 1.420218330256793 accuracy: 49.324\n",
      "Epoch: 85 sum loss: 139.06344664096832 batches 98 loss: 1.419014761642534 accuracy: 49.306\n",
      "Epoch: 86 sum loss: 138.74037754535675 batches 98 loss: 1.415718138217926 accuracy: 49.468\n",
      "Epoch: 87 sum loss: 138.34492301940918 batches 98 loss: 1.4116828879531549 accuracy: 49.43\n",
      "Epoch: 88 sum loss: 138.11886322498322 batches 98 loss: 1.4093761553569717 accuracy: 49.63\n",
      "Epoch: 89 sum loss: 137.55517518520355 batches 98 loss: 1.4036242365837097 accuracy: 50.024\n",
      "Epoch: 90 sum loss: 137.63851082324982 batches 98 loss: 1.404474600237243 accuracy: 49.722\n"
     ]
    },
    {
     "name": "stdout",
     "output_type": "stream",
     "text": [
      "Epoch: 91 sum loss: 137.29440295696259 batches 98 loss: 1.40096329547921 accuracy: 50.176\n",
      "Epoch: 92 sum loss: 136.99800288677216 batches 98 loss: 1.397938804967063 accuracy: 50.174\n",
      "Epoch: 93 sum loss: 136.76252162456512 batches 98 loss: 1.395535934944542 accuracy: 50.344\n",
      "Epoch: 94 sum loss: 136.45502054691315 batches 98 loss: 1.3923981688460525 accuracy: 50.452\n",
      "Epoch: 95 sum loss: 136.02905011177063 batches 98 loss: 1.3880515317527615 accuracy: 50.738\n",
      "Epoch: 96 sum loss: 135.8914576768875 batches 98 loss: 1.3866475273151786 accuracy: 50.496\n",
      "Epoch: 97 sum loss: 135.6139259338379 batches 98 loss: 1.3838155707534479 accuracy: 50.786\n",
      "Epoch: 98 sum loss: 135.18058109283447 batches 98 loss: 1.37939368462076 accuracy: 50.996\n",
      "Epoch: 99 sum loss: 134.8983280658722 batches 98 loss: 1.3765135516925735 accuracy: 51.082\n",
      "Epoch: 100 sum loss: 134.70119178295135 batches 98 loss: 1.3745019569688914 accuracy: 51.132\n",
      "Epoch: 101 sum loss: 134.6086894273758 batches 98 loss: 1.3735580553813858 accuracy: 51.196\n",
      "Epoch: 102 sum loss: 134.1999136209488 batches 98 loss: 1.369386873683151 accuracy: 51.38\n"
     ]
    }
   ],
   "source": [
    "epoch=1000\n",
    "model = CnnNet().to(device)\n",
    "optimizer = optim.Adadelta(model.parameters(), lr=0.01)\n",
    "scheduler = StepLR(optimizer, step_size=1, gamma=0.1)\n",
    "loss = nn.CrossEntropyLoss()\n",
    "train_loss_1, accuracy_train_1, _, _ = returnModelAccAndLoss(model, device, train_loader, test_loader, optimizer, loss, epoch, scheduler)"
   ]
  },
  {
   "cell_type": "code",
   "execution_count": 30,
   "id": "758b1a60",
   "metadata": {},
   "outputs": [
    {
     "name": "stdout",
     "output_type": "stream",
     "text": [
      "Epoch: 1 sum loss: 225.3637752532959 batches 98 loss: 2.299630359727509 accuracy: 11.644\n",
      "Epoch: 2 sum loss: 224.42285060882568 batches 98 loss: 2.29002908784516 accuracy: 15.28\n",
      "Epoch: 3 sum loss: 222.94820713996887 batches 98 loss: 2.2749817055098864 accuracy: 17.706\n",
      "Epoch: 4 sum loss: 220.62476515769958 batches 98 loss: 2.2512731138540776 accuracy: 19.734\n",
      "Epoch: 5 sum loss: 217.07357144355774 batches 98 loss: 2.2150364433016096 accuracy: 21.072\n",
      "Epoch: 6 sum loss: 212.2574167251587 batches 98 loss: 2.1658920073995787 accuracy: 22.272\n",
      "Epoch: 7 sum loss: 207.61094689369202 batches 98 loss: 2.1184790499356327 accuracy: 23.272\n",
      "Epoch: 8 sum loss: 203.62073874473572 batches 98 loss: 2.077762640252405 accuracy: 24.464\n",
      "Epoch: 9 sum loss: 201.13503456115723 batches 98 loss: 2.052398311848543 accuracy: 24.896\n",
      "Epoch: 10 sum loss: 199.0349977016449 batches 98 loss: 2.030969364302499 accuracy: 25.874\n"
     ]
    }
   ],
   "source": [
    "epoch=10\n",
    "model = CnnNet2().to(device)\n",
    "optimizer = optim.Adadelta(model.parameters(), lr=0.01)\n",
    "scheduler = StepLR(optimizer, step_size=1, gamma=0.1)\n",
    "loss = nn.CrossEntropyLoss()\n",
    "train_loss_2, accuracy_train_2, _, _ = returnModelAccAndLoss(model, device, train_loader, test_loader, optimizer, loss, epoch, scheduler)"
   ]
  },
  {
   "cell_type": "code",
   "execution_count": 35,
   "id": "d2bd16a2",
   "metadata": {},
   "outputs": [
    {
     "name": "stdout",
     "output_type": "stream",
     "text": [
      "Epoch: 1 sum loss: 225.70803713798523 batches 98 loss: 2.30314323610189 accuracy: 10.038\n",
      "Epoch: 2 sum loss: 225.68355751037598 batches 98 loss: 2.3028934439834283 accuracy: 10.062\n",
      "Epoch: 3 sum loss: 225.67935705184937 batches 98 loss: 2.302850582161728 accuracy: 10.206\n",
      "Epoch: 4 sum loss: 225.65902543067932 batches 98 loss: 2.302643116639585 accuracy: 10.314\n",
      "Epoch: 5 sum loss: 225.64857459068298 batches 98 loss: 2.3025364754151325 accuracy: 10.334\n",
      "Epoch: 6 sum loss: 225.62932133674622 batches 98 loss: 2.3023400136402676 accuracy: 10.34\n",
      "Epoch: 7 sum loss: 225.61875319480896 batches 98 loss: 2.302232175457234 accuracy: 10.484\n",
      "Epoch: 8 sum loss: 225.60312628746033 batches 98 loss: 2.3020727172189828 accuracy: 10.638\n",
      "Epoch: 9 sum loss: 225.5848217010498 batches 98 loss: 2.301885935724998 accuracy: 10.846\n",
      "Epoch: 10 sum loss: 225.56722116470337 batches 98 loss: 2.3017063384153404 accuracy: 10.938\n"
     ]
    }
   ],
   "source": [
    "epoch=10\n",
    "model = CnnNet3().to(device)\n",
    "optimizer = optim.Adadelta(model.parameters(), lr=0.01)\n",
    "scheduler = StepLR(optimizer, step_size=1, gamma=0.1)\n",
    "loss = nn.CrossEntropyLoss()\n",
    "train_loss_3, accuracy_train_3, _, _ = returnModelAccAndLoss(model, device, train_loader, test_loader, optimizer, loss, epoch, scheduler)"
   ]
  },
  {
   "cell_type": "code",
   "execution_count": 36,
   "id": "4c0e0540",
   "metadata": {},
   "outputs": [
    {
     "data": {
      "image/png": "[encoded data removed]",
      "text/plain": [
       "<Figure size 720x432 with 1 Axes>"
      ]
     },
     "metadata": {
      "needs_background": "light"
     },
     "output_type": "display_data"
    }
   ],
   "source": [
    "import matplotlib.pyplot as plt\n",
    "plt1=plt.figure(figsize=(10, 6))\n",
    "plt.plot(np.array(train_loss_1), 'r', label='model1')\n",
    "plt.plot(np.array(train_loss_2), 'b', label='model2')\n",
    "plt.plot(np.array(train_loss_3), 'y', label='model3')\n",
    "\n",
    "# naming the x axis\n",
    "plt.xlabel('Epochs')\n",
    "# naming the y axis\n",
    "plt.ylabel('Loss') \n",
    "plt.legend()\n",
    "plt.title(\"Loss function For CIFAR10\")\n",
    "plt.show()\n",
    "\n",
    "\n"
   ]
  },
  {
   "cell_type": "code",
   "execution_count": 38,
   "id": "abc65401",
   "metadata": {},
   "outputs": [
    {
     "data": {
      "image/png": "[encoded data removed]",
      "text/plain": [
       "<Figure size 720x432 with 1 Axes>"
      ]
     },
     "metadata": {
      "needs_background": "light"
     },
     "output_type": "display_data"
    }
   ],
   "source": [
    "plt1=plt.figure(figsize=(10, 6))\n",
    "plt.plot(np.array(accuracy_train_1), 'r', label='model1')\n",
    "plt.plot(np.array(accuracy_train_2), 'b', label='model2')\n",
    "plt.plot(np.array(accuracy_train_3), 'y', label='model3')\n",
    "\n",
    "# naming the x axis\n",
    "plt.xlabel('Epochs')\n",
    "# naming the y axis\n",
    "plt.ylabel('Accuracy') \n",
    "plt.legend()\n",
    "plt.title(\"Accuracy function For CIFAR10\")\n",
    "plt.show()"
   ]
  },
  {
   "cell_type": "code",
   "execution_count": null,
   "id": "c332d6ae",
   "metadata": {},
   "outputs": [],
   "source": []
  },
  {
   "cell_type": "code",
   "execution_count": null,
   "id": "318e14dc",
   "metadata": {},
   "outputs": [],
   "source": []
  }
 ],
 "metadata": {
  "kernelspec": {
   "display_name": "Python 3 (ipykernel)",
   "language": "python",
   "name": "python3"
  },
  "language_info": {
   "codemirror_mode": {
    "name": "ipython",
    "version": 3
   },
   "file_extension": ".py",
   "mimetype": "text/x-python",
   "name": "python",
   "nbconvert_exporter": "python",
   "pygments_lexer": "ipython3",
   "version": "3.8.12"
  }
 },
 "nbformat": 4,
 "nbformat_minor": 5
}
