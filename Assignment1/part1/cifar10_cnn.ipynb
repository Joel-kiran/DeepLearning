{
 "cells": [
  {
   "cell_type": "code",
   "execution_count": 1,
   "id": "ae1ec834",
   "metadata": {},
   "outputs": [],
   "source": [
    "from __future__ import print_function\n",
    "import argparse\n",
    "import torch\n",
    "import numpy as np\n",
    "import torch.nn as nn\n",
    "import torch.nn.functional as F\n",
    "import torch.optim as optim\n",
    "from torchvision import datasets, transforms\n",
    "from torch.optim.lr_scheduler import StepLR\n",
    "from torchsummary import summary"
   ]
  },
  {
   "cell_type": "code",
   "execution_count": 2,
   "id": "3eacd14d",
   "metadata": {},
   "outputs": [],
   "source": [
    "class CnnNet(nn.Module):  \n",
    "    def __init__(self):\n",
    "        super(CnnNet, self).__init__()\n",
    "        self.conv1 = nn.Conv2d(3, 32, 3)\n",
    "        self.pool = nn.MaxPool2d(2, 2)\n",
    "        self.conv2 = nn.Conv2d(32, 64, 3)\n",
    "        self.fc1 = nn.Linear(64 * 6 * 6, 1024)\n",
    "        self.fc2 = nn.Linear(1024, 10)\n",
    "        self.dropout1 = nn.Dropout(0.25)\n",
    "        self.dropout2 = nn.Dropout(0.5)\n",
    "        \n",
    "        \n",
    "    def forward(self, x):\n",
    "        x = self.pool(F.relu(self.conv1(x)))\n",
    "        x = self.pool(F.relu(self.conv2(x)))\n",
    "        x = self.dropout1(x)\n",
    "        x = x.view(-1, 64 * 6 * 6)\n",
    "        x = F.relu(self.fc1(x))\n",
    "        x = self.fc2(x)\n",
    "        output = F.log_softmax(x, dim=1)\n",
    "        return output\n",
    "        "
   ]
  },
  {
   "cell_type": "code",
   "execution_count": 3,
   "id": "87da0005",
   "metadata": {},
   "outputs": [],
   "source": [
    "class CnnNet2(nn.Module):  \n",
    "    def __init__(self):\n",
    "        super(CnnNet2, self).__init__()\n",
    "        self.conv1 = nn.Conv2d(3, 32, 3)\n",
    "        self.pool = nn.MaxPool2d(2, 2)\n",
    "        self.fc1 = nn.Linear(7200, 1024)\n",
    "        self.fc2 = nn.Linear(1024, 256)\n",
    "        self.fc3 = nn.Linear(256, 10) \n",
    "        self.dropout1 = nn.Dropout(0.25)\n",
    "        self.dropout2 = nn.Dropout(0.5)\n",
    "        \n",
    "        \n",
    "    def forward(self, x):\n",
    "        x = self.pool(F.relu(self.conv1(x)))\n",
    "        x = self.dropout1(x)\n",
    "        x = x.view(x.shape[0], -1)\n",
    "        x = F.relu(self.fc1(x))\n",
    "        x = F.relu(self.fc2(x))\n",
    "        x = self.dropout2(x)\n",
    "        x = self.fc3(x)\n",
    "        output = F.log_softmax(x, dim=1)\n",
    "        return output\n",
    "        "
   ]
  },
  {
   "cell_type": "code",
   "execution_count": 4,
   "id": "acc474c0-88fc-4520-8f18-628b63bbc9be",
   "metadata": {},
   "outputs": [],
   "source": [
    "class CnnNet3(nn.Module):  \n",
    "    def __init__(self):\n",
    "        super(CnnNet3, self).__init__()\n",
    "        self.conv1 = nn.Conv2d(3, 32, 3)\n",
    "        self.pool = nn.MaxPool2d(2, 2)\n",
    "        self.conv2 = nn.Conv2d(32, 64, 3)\n",
    "        self.conv3 = nn.Conv2d(64, 128, 3)\n",
    "        self.fc1 = nn.Linear(512, 1024)\n",
    "        self.fc2 = nn.Linear(1024, 256)\n",
    "        self.fc3 = nn.Linear(256, 10) \n",
    "        self.dropout1 = nn.Dropout(0.25)\n",
    "        self.dropout2 = nn.Dropout(0.5)\n",
    "        \n",
    "        \n",
    "    def forward(self, x):\n",
    "        x = self.pool(F.relu(self.conv1(x)))\n",
    "        x = self.pool(F.relu(self.conv2(x)))\n",
    "        x = self.pool(F.relu(self.conv3(x)))\n",
    "        x = self.dropout1(x)\n",
    "        x = x.view(x.shape[0], -1)\n",
    "        x = F.relu(self.fc1(x))\n",
    "        x = F.relu(self.fc2(x))\n",
    "        x = self.dropout2(x)\n",
    "        x = self.fc3(x)\n",
    "        output = F.log_softmax(x, dim=1)\n",
    "        return output\n",
    "        "
   ]
  },
  {
   "cell_type": "code",
   "execution_count": 5,
   "id": "1222f60d-1f63-4eb9-8836-fb1dbcd25c4f",
   "metadata": {},
   "outputs": [
    {
     "name": "stdout",
     "output_type": "stream",
     "text": [
      "model 1 - parameters 2389962\n",
      "model 2 - parameters 7639690\n",
      "model 3 - parameters 883530\n"
     ]
    }
   ],
   "source": [
    "print(\"model 1 - parameters\", sum(p.numel() for p in CnnNet().parameters() if p.requires_grad))\n",
    "print(\"model 2 - parameters\", sum(p.numel() for p in CnnNet2().parameters() if p.requires_grad))\n",
    "print(\"model 3 - parameters\", sum(p.numel() for p in CnnNet3().parameters() if p.requires_grad))"
   ]
  },
  {
   "cell_type": "code",
   "execution_count": 6,
   "id": "e7ecc506",
   "metadata": {},
   "outputs": [],
   "source": [
    "def train( model, device, train_loader, optimizer,loss_fn, epoch):\n",
    "    train_loss=0\n",
    "    model.train()\n",
    "    correct = 0\n",
    "    loss_fn = nn.CrossEntropyLoss(reduction='sum')\n",
    "    for batch_idx, (data, target) in enumerate(train_loader):\n",
    "        data, target = data.to(device), target.to(device)\n",
    "        optimizer.zero_grad()\n",
    "        output = model(data)\n",
    "        loss = loss_fn(output, target)\n",
    "        train_loss+=loss.item()\n",
    "        loss.backward()\n",
    "        optimizer.step()\n",
    "        pred = output.argmax(dim=1, keepdim=True)  # get the index of the max log-probability\n",
    "        correct += pred.eq(target.view_as(pred)).sum().item()\n",
    "    train_loss/=len(train_loader.dataset)\n",
    "    print(\"Training - Epoch:\", epoch, \"loss:\", train_loss, \"accuracy:\", 100. * correct / len(train_loader.dataset))  \n",
    "    return train_loss, 100. * correct / len(train_loader.dataset)\n",
    "                                                       \n",
    "                                                       \n",
    "def test(model, device, test_loader):\n",
    "    model.eval()\n",
    "    test_loss = 0\n",
    "    correct = 0\n",
    "    loss_fn = nn.CrossEntropyLoss(reduction='sum')\n",
    "    with torch.no_grad():\n",
    "        for data, target in test_loader:\n",
    "            data, target = data.to(device), target.to(device)\n",
    "            output = model(data)\n",
    "            test_loss += loss_fn(output, target)  # sum up batch loss\n",
    "            pred = output.argmax(dim=1, keepdim=True)  # get the index of the max log-probability\n",
    "            correct += pred.eq(target.view_as(pred)).sum().item()\n",
    "\n",
    "    test_loss /= len(test_loader.dataset)\n",
    "\n",
    "    print('\\nTest set: Average loss: {:.4f}, Accuracy: {}/{} ({:.0f}%)\\n'.format(\n",
    "        test_loss, correct, len(test_loader.dataset),\n",
    "        100. * correct / len(test_loader.dataset)))\n",
    "    return test_loss, 100. * correct / len(test_loader.dataset)"
   ]
  },
  {
   "cell_type": "code",
   "execution_count": 8,
   "id": "6de0d3a8",
   "metadata": {},
   "outputs": [
    {
     "name": "stdout",
     "output_type": "stream",
     "text": [
      "Files already downloaded and verified\n"
     ]
    }
   ],
   "source": [
    "use_cuda = torch.cuda.is_available()\n",
    "torch.manual_seed(1)\n",
    "\n",
    "device = torch.device(\"cuda\" if use_cuda else \"cpu\")\n",
    "\n",
    "train_kwargs = {'batch_size': 512}\n",
    "test_kwargs = {'batch_size': 512}\n",
    "if use_cuda:\n",
    "    cuda_kwargs = {'num_workers': 1,\n",
    "                   'pin_memory': True,\n",
    "                   'shuffle': True}\n",
    "    train_kwargs.update(cuda_kwargs)\n",
    "    test_kwargs.update(cuda_kwargs)\n",
    "\n",
    "transform=transforms.Compose([\n",
    "        transforms.ToTensor()\n",
    "        ])\n",
    "dataset1 = datasets.CIFAR10('../data', train=True, download=True, transform=transform)\n",
    "dataset2 = datasets.CIFAR10('../data', train=False, transform=transform)\n",
    "train_loader = torch.utils.data.DataLoader(dataset1,**train_kwargs)\n",
    "test_loader = torch.utils.data.DataLoader(dataset2, **test_kwargs)\n"
   ]
  },
  {
   "cell_type": "code",
   "execution_count": 11,
   "id": "a7a7f9b0",
   "metadata": {},
   "outputs": [
    {
     "name": "stdout",
     "output_type": "stream",
     "text": [
      "----------------------------------------------------------------\n",
      "        Layer (type)               Output Shape         Param #\n",
      "================================================================\n",
      "            Conv2d-1           [-1, 32, 30, 30]             896\n",
      "         MaxPool2d-2           [-1, 32, 15, 15]               0\n",
      "            Conv2d-3           [-1, 64, 13, 13]          18,496\n",
      "         MaxPool2d-4             [-1, 64, 6, 6]               0\n",
      "           Dropout-5             [-1, 64, 6, 6]               0\n",
      "            Linear-6                 [-1, 1024]       2,360,320\n",
      "            Linear-7                   [-1, 10]          10,250\n",
      "================================================================\n",
      "Total params: 2,389,962\n",
      "Trainable params: 2,389,962\n",
      "Non-trainable params: 0\n",
      "----------------------------------------------------------------\n",
      "Input size (MB): 0.01\n",
      "Forward/backward pass size (MB): 0.40\n",
      "Params size (MB): 9.12\n",
      "Estimated Total Size (MB): 9.53\n",
      "----------------------------------------------------------------\n"
     ]
    }
   ],
   "source": [
    "model = CnnNet().to(device)\n",
    "summary(model,(3 ,32, 32))"
   ]
  },
  {
   "cell_type": "code",
   "execution_count": 12,
   "id": "241ee36b",
   "metadata": {},
   "outputs": [
    {
     "name": "stdout",
     "output_type": "stream",
     "text": [
      "----------------------------------------------------------------\n",
      "        Layer (type)               Output Shape         Param #\n",
      "================================================================\n",
      "            Conv2d-1           [-1, 32, 30, 30]             896\n",
      "         MaxPool2d-2           [-1, 32, 15, 15]               0\n",
      "           Dropout-3           [-1, 32, 15, 15]               0\n",
      "            Linear-4                 [-1, 1024]       7,373,824\n",
      "            Linear-5                  [-1, 256]         262,400\n",
      "           Dropout-6                  [-1, 256]               0\n",
      "            Linear-7                   [-1, 10]           2,570\n",
      "================================================================\n",
      "Total params: 7,639,690\n",
      "Trainable params: 7,639,690\n",
      "Non-trainable params: 0\n",
      "----------------------------------------------------------------\n",
      "Input size (MB): 0.01\n",
      "Forward/backward pass size (MB): 0.34\n",
      "Params size (MB): 29.14\n",
      "Estimated Total Size (MB): 29.50\n",
      "----------------------------------------------------------------\n"
     ]
    }
   ],
   "source": [
    "model = CnnNet2().to(device)\n",
    "summary(model,(3 ,32, 32))"
   ]
  },
  {
   "cell_type": "code",
   "execution_count": 13,
   "id": "b853eb5b",
   "metadata": {},
   "outputs": [
    {
     "name": "stdout",
     "output_type": "stream",
     "text": [
      "----------------------------------------------------------------\n",
      "        Layer (type)               Output Shape         Param #\n",
      "================================================================\n",
      "            Conv2d-1           [-1, 32, 30, 30]             896\n",
      "         MaxPool2d-2           [-1, 32, 15, 15]               0\n",
      "            Conv2d-3           [-1, 64, 13, 13]          18,496\n",
      "         MaxPool2d-4             [-1, 64, 6, 6]               0\n",
      "            Conv2d-5            [-1, 128, 4, 4]          73,856\n",
      "         MaxPool2d-6            [-1, 128, 2, 2]               0\n",
      "           Dropout-7            [-1, 128, 2, 2]               0\n",
      "            Linear-8                 [-1, 1024]         525,312\n",
      "            Linear-9                  [-1, 256]         262,400\n",
      "          Dropout-10                  [-1, 256]               0\n",
      "           Linear-11                   [-1, 10]           2,570\n",
      "================================================================\n",
      "Total params: 883,530\n",
      "Trainable params: 883,530\n",
      "Non-trainable params: 0\n",
      "----------------------------------------------------------------\n",
      "Input size (MB): 0.01\n",
      "Forward/backward pass size (MB): 0.41\n",
      "Params size (MB): 3.37\n",
      "Estimated Total Size (MB): 3.79\n",
      "----------------------------------------------------------------\n"
     ]
    }
   ],
   "source": [
    "model = CnnNet3().to(device)\n",
    "summary(model,(3 ,32, 32))"
   ]
  },
  {
   "cell_type": "code",
   "execution_count": 15,
   "id": "5f900615",
   "metadata": {},
   "outputs": [],
   "source": [
    "def returnModelAccAndLoss(model, device, train_loader, test_loader, optimizer, loss, epoch, scheduler):\n",
    "    train_loss=[]\n",
    "    test_loss=[]\n",
    "    accuracy_train=[]\n",
    "    accuracy_test=[]\n",
    "    for epoch in range(1, epoch+1):\n",
    "        tr_loss, tr_accuracy=train(model, device, train_loader, optimizer, loss, epoch)\n",
    "        train_loss.append(tr_loss)\n",
    "        accuracy_train.append(tr_accuracy)\n",
    "    return train_loss, accuracy_train, test_loss, accuracy_test"
   ]
  },
  {
   "cell_type": "code",
   "execution_count": 16,
   "id": "98e9b6ba",
   "metadata": {},
   "outputs": [
    {
     "name": "stdout",
     "output_type": "stream",
     "text": [
      "Training - Epoch: 1 loss: 2.1939428918457033 accuracy: 20.824\n",
      "Training - Epoch: 2 loss: 1.9191671789550782 accuracy: 31.324\n",
      "Training - Epoch: 3 loss: 1.786243515625 accuracy: 36.428\n",
      "Training - Epoch: 4 loss: 1.6875599353027344 accuracy: 39.918\n",
      "Training - Epoch: 5 loss: 1.6284932946777344 accuracy: 41.83\n",
      "Training - Epoch: 6 loss: 1.5910656274414063 accuracy: 42.966\n",
      "Training - Epoch: 7 loss: 1.5626575073242188 accuracy: 44.112\n",
      "Training - Epoch: 8 loss: 1.5383092602539064 accuracy: 45.048\n",
      "Training - Epoch: 9 loss: 1.5187888317871094 accuracy: 45.818\n",
      "Training - Epoch: 10 loss: 1.501534400024414 accuracy: 46.468\n",
      "Training - Epoch: 11 loss: 1.4857425701904297 accuracy: 47.136\n",
      "Training - Epoch: 12 loss: 1.4686013232421875 accuracy: 47.994\n",
      "Training - Epoch: 13 loss: 1.4564699011230469 accuracy: 48.324\n",
      "Training - Epoch: 14 loss: 1.4423794635009766 accuracy: 48.988\n",
      "Training - Epoch: 15 loss: 1.4286403009033204 accuracy: 49.418\n",
      "Training - Epoch: 16 loss: 1.4195747259521485 accuracy: 49.79\n",
      "Training - Epoch: 17 loss: 1.4094488006591797 accuracy: 50.146\n",
      "Training - Epoch: 18 loss: 1.3985747772216797 accuracy: 50.484\n",
      "Training - Epoch: 19 loss: 1.3889311151123047 accuracy: 50.702\n",
      "Training - Epoch: 20 loss: 1.3810316497802735 accuracy: 51.216\n",
      "Training - Epoch: 21 loss: 1.37206330078125 accuracy: 51.562\n",
      "Training - Epoch: 22 loss: 1.3611882446289063 accuracy: 51.794\n",
      "Training - Epoch: 23 loss: 1.3549507843017579 accuracy: 52.29\n",
      "Training - Epoch: 24 loss: 1.34561736328125 accuracy: 52.722\n",
      "Training - Epoch: 25 loss: 1.3394374340820312 accuracy: 52.736\n",
      "Training - Epoch: 26 loss: 1.3310673590087891 accuracy: 53.126\n",
      "Training - Epoch: 27 loss: 1.3235510913085937 accuracy: 53.28\n",
      "Training - Epoch: 28 loss: 1.3181790631103516 accuracy: 53.748\n",
      "Training - Epoch: 29 loss: 1.3120279504394532 accuracy: 53.892\n",
      "Training - Epoch: 30 loss: 1.3065045971679687 accuracy: 53.974\n",
      "Training - Epoch: 31 loss: 1.2989244409179688 accuracy: 54.2\n",
      "Training - Epoch: 32 loss: 1.2941620965576173 accuracy: 54.714\n",
      "Training - Epoch: 33 loss: 1.2857390252685548 accuracy: 54.832\n",
      "Training - Epoch: 34 loss: 1.2821526696777343 accuracy: 55.022\n",
      "Training - Epoch: 35 loss: 1.2767896398925782 accuracy: 55.034\n",
      "Training - Epoch: 36 loss: 1.2695879766845704 accuracy: 55.27\n",
      "Training - Epoch: 37 loss: 1.2640402551269532 accuracy: 55.622\n",
      "Training - Epoch: 38 loss: 1.2597866320800781 accuracy: 55.78\n",
      "Training - Epoch: 39 loss: 1.2554238671875 accuracy: 55.904\n",
      "Training - Epoch: 40 loss: 1.2489481903076172 accuracy: 56.062\n",
      "Training - Epoch: 41 loss: 1.2441462426757812 accuracy: 56.338\n",
      "Training - Epoch: 42 loss: 1.2415722265625 accuracy: 56.296\n",
      "Training - Epoch: 43 loss: 1.2356995672607423 accuracy: 56.646\n",
      "Training - Epoch: 44 loss: 1.231117999267578 accuracy: 56.808\n",
      "Training - Epoch: 45 loss: 1.2254353186035156 accuracy: 57.094\n",
      "Training - Epoch: 46 loss: 1.2203438134765625 accuracy: 57.242\n",
      "Training - Epoch: 47 loss: 1.2168523364257813 accuracy: 57.274\n",
      "Training - Epoch: 48 loss: 1.211036885986328 accuracy: 57.616\n",
      "Training - Epoch: 49 loss: 1.2085515283203125 accuracy: 57.772\n",
      "Training - Epoch: 50 loss: 1.2034623944091798 accuracy: 57.872\n"
     ]
    }
   ],
   "source": [
    "epoch=50\n",
    "model = CnnNet().to(device)\n",
    "optimizer = optim.Adadelta(model.parameters(), lr=0.01)\n",
    "scheduler = StepLR(optimizer, step_size=1, gamma=0.1)\n",
    "loss = nn.CrossEntropyLoss(reduction='sum')\n",
    "train_loss_1, accuracy_train_1, _, _ = returnModelAccAndLoss(model, device, train_loader, test_loader, optimizer, loss, epoch, scheduler)"
   ]
  },
  {
   "cell_type": "code",
   "execution_count": 17,
   "id": "758b1a60",
   "metadata": {},
   "outputs": [
    {
     "name": "stdout",
     "output_type": "stream",
     "text": [
      "Training - Epoch: 1 loss: 2.1390230200195313 accuracy: 22.488\n",
      "Training - Epoch: 2 loss: 1.9046167883300782 accuracy: 31.646\n",
      "Training - Epoch: 3 loss: 1.7843521020507813 accuracy: 36.19\n",
      "Training - Epoch: 4 loss: 1.694519569091797 accuracy: 39.768\n",
      "Training - Epoch: 5 loss: 1.6345075061035157 accuracy: 41.438\n",
      "Training - Epoch: 6 loss: 1.5892871044921875 accuracy: 42.934\n",
      "Training - Epoch: 7 loss: 1.5600376879882814 accuracy: 43.924\n",
      "Training - Epoch: 8 loss: 1.5287104125976563 accuracy: 45.13\n",
      "Training - Epoch: 9 loss: 1.5045524896240234 accuracy: 45.82\n",
      "Training - Epoch: 10 loss: 1.4848819897460936 accuracy: 46.638\n",
      "Training - Epoch: 11 loss: 1.4663147192382813 accuracy: 47.57\n",
      "Training - Epoch: 12 loss: 1.452234168701172 accuracy: 47.728\n",
      "Training - Epoch: 13 loss: 1.4323680114746093 accuracy: 48.544\n",
      "Training - Epoch: 14 loss: 1.4189097412109375 accuracy: 49.106\n",
      "Training - Epoch: 15 loss: 1.4069111907958984 accuracy: 49.68\n",
      "Training - Epoch: 16 loss: 1.3904746905517578 accuracy: 50.194\n",
      "Training - Epoch: 17 loss: 1.379312080078125 accuracy: 50.982\n",
      "Training - Epoch: 18 loss: 1.3654790185546875 accuracy: 51.558\n",
      "Training - Epoch: 19 loss: 1.3532854345703125 accuracy: 51.798\n",
      "Training - Epoch: 20 loss: 1.3424978259277345 accuracy: 52.006\n",
      "Training - Epoch: 21 loss: 1.3333702844238282 accuracy: 52.49\n",
      "Training - Epoch: 22 loss: 1.3196966284179688 accuracy: 53.23\n",
      "Training - Epoch: 23 loss: 1.312562991333008 accuracy: 53.422\n",
      "Training - Epoch: 24 loss: 1.3030621063232422 accuracy: 53.804\n",
      "Training - Epoch: 25 loss: 1.2943939385986327 accuracy: 54.022\n",
      "Training - Epoch: 26 loss: 1.286566109008789 accuracy: 54.418\n",
      "Training - Epoch: 27 loss: 1.271497061767578 accuracy: 54.908\n",
      "Training - Epoch: 28 loss: 1.2678737377929687 accuracy: 55.146\n",
      "Training - Epoch: 29 loss: 1.258140018310547 accuracy: 55.374\n",
      "Training - Epoch: 30 loss: 1.2522344146728515 accuracy: 55.53\n",
      "Training - Epoch: 31 loss: 1.2441857806396484 accuracy: 55.92\n",
      "Training - Epoch: 32 loss: 1.2387338452148438 accuracy: 55.91\n",
      "Training - Epoch: 33 loss: 1.2294297619628907 accuracy: 56.23\n",
      "Training - Epoch: 34 loss: 1.2211667700195312 accuracy: 56.642\n",
      "Training - Epoch: 35 loss: 1.2146988677978516 accuracy: 57.156\n",
      "Training - Epoch: 36 loss: 1.2079199572753907 accuracy: 57.35\n",
      "Training - Epoch: 37 loss: 1.2021426293945312 accuracy: 57.542\n",
      "Training - Epoch: 38 loss: 1.1956059368896483 accuracy: 57.806\n",
      "Training - Epoch: 39 loss: 1.1874684576416015 accuracy: 58.136\n",
      "Training - Epoch: 40 loss: 1.1793453076171876 accuracy: 58.42\n",
      "Training - Epoch: 41 loss: 1.1724932092285156 accuracy: 58.446\n",
      "Training - Epoch: 42 loss: 1.1682794024658203 accuracy: 58.762\n",
      "Training - Epoch: 43 loss: 1.1596365045166015 accuracy: 59.172\n",
      "Training - Epoch: 44 loss: 1.1551911560058594 accuracy: 59.03\n",
      "Training - Epoch: 45 loss: 1.1512340545654296 accuracy: 59.46\n",
      "Training - Epoch: 46 loss: 1.1425888531494142 accuracy: 59.596\n",
      "Training - Epoch: 47 loss: 1.1387401983642578 accuracy: 59.79\n",
      "Training - Epoch: 48 loss: 1.1291242858886719 accuracy: 60.132\n",
      "Training - Epoch: 49 loss: 1.1203449829101562 accuracy: 60.588\n",
      "Training - Epoch: 50 loss: 1.1185469995117188 accuracy: 60.454\n"
     ]
    }
   ],
   "source": [
    "epoch=50\n",
    "model = CnnNet2().to(device)\n",
    "optimizer = optim.Adadelta(model.parameters(), lr=0.01)\n",
    "scheduler = StepLR(optimizer, step_size=1, gamma=0.1)\n",
    "loss = nn.CrossEntropyLoss()\n",
    "train_loss_2, accuracy_train_2, _, _ = returnModelAccAndLoss(model, device, train_loader, test_loader, optimizer, loss, epoch, scheduler)"
   ]
  },
  {
   "cell_type": "code",
   "execution_count": 18,
   "id": "d2bd16a2",
   "metadata": {},
   "outputs": [
    {
     "name": "stdout",
     "output_type": "stream",
     "text": [
      "Training - Epoch: 1 loss: 2.2881465185546874 accuracy: 12.468\n",
      "Training - Epoch: 2 loss: 2.1668486596679686 accuracy: 18.284\n",
      "Training - Epoch: 3 loss: 2.061863966064453 accuracy: 22.462\n",
      "Training - Epoch: 4 loss: 1.9816204638671875 accuracy: 25.274\n",
      "Training - Epoch: 5 loss: 1.91118923828125 accuracy: 27.798\n",
      "Training - Epoch: 6 loss: 1.845581329345703 accuracy: 30.25\n",
      "Training - Epoch: 7 loss: 1.8036764013671875 accuracy: 31.784\n",
      "Training - Epoch: 8 loss: 1.7748234326171874 accuracy: 33.024\n",
      "Training - Epoch: 9 loss: 1.7540265856933595 accuracy: 33.874\n",
      "Training - Epoch: 10 loss: 1.7334665270996095 accuracy: 34.968\n",
      "Training - Epoch: 11 loss: 1.7175290380859376 accuracy: 35.606\n",
      "Training - Epoch: 12 loss: 1.7016568237304688 accuracy: 36.266\n",
      "Training - Epoch: 13 loss: 1.6870423510742187 accuracy: 37.092\n",
      "Training - Epoch: 14 loss: 1.6750964855957031 accuracy: 37.492\n",
      "Training - Epoch: 15 loss: 1.6598251599121094 accuracy: 38.366\n",
      "Training - Epoch: 16 loss: 1.6462690563964844 accuracy: 38.824\n",
      "Training - Epoch: 17 loss: 1.6330083435058593 accuracy: 39.334\n",
      "Training - Epoch: 18 loss: 1.6207274194335937 accuracy: 39.858\n",
      "Training - Epoch: 19 loss: 1.6089220568847655 accuracy: 40.318\n",
      "Training - Epoch: 20 loss: 1.5954315759277344 accuracy: 40.794\n",
      "Training - Epoch: 21 loss: 1.5862278869628905 accuracy: 41.382\n",
      "Training - Epoch: 22 loss: 1.57407455078125 accuracy: 41.606\n",
      "Training - Epoch: 23 loss: 1.5627868664550781 accuracy: 42.616\n",
      "Training - Epoch: 24 loss: 1.552700926513672 accuracy: 42.784\n",
      "Training - Epoch: 25 loss: 1.546034337158203 accuracy: 42.886\n",
      "Training - Epoch: 26 loss: 1.5336478076171876 accuracy: 43.582\n",
      "Training - Epoch: 27 loss: 1.5249801171875 accuracy: 43.978\n",
      "Training - Epoch: 28 loss: 1.5175370678710938 accuracy: 44.258\n",
      "Training - Epoch: 29 loss: 1.5088628564453126 accuracy: 44.526\n",
      "Training - Epoch: 30 loss: 1.5004371899414062 accuracy: 44.826\n",
      "Training - Epoch: 31 loss: 1.4948596453857421 accuracy: 45.27\n",
      "Training - Epoch: 32 loss: 1.4856927111816407 accuracy: 45.626\n",
      "Training - Epoch: 33 loss: 1.4786126934814454 accuracy: 45.93\n",
      "Training - Epoch: 34 loss: 1.4717065698242187 accuracy: 46.146\n",
      "Training - Epoch: 35 loss: 1.4656478295898439 accuracy: 46.354\n",
      "Training - Epoch: 36 loss: 1.46103609375 accuracy: 46.536\n",
      "Training - Epoch: 37 loss: 1.454268563232422 accuracy: 46.938\n",
      "Training - Epoch: 38 loss: 1.445243114013672 accuracy: 47.258\n",
      "Training - Epoch: 39 loss: 1.4393908508300781 accuracy: 47.33\n",
      "Training - Epoch: 40 loss: 1.4353950689697266 accuracy: 47.868\n",
      "Training - Epoch: 41 loss: 1.4282144458007813 accuracy: 48.058\n",
      "Training - Epoch: 42 loss: 1.4250878576660155 accuracy: 48.04\n",
      "Training - Epoch: 43 loss: 1.4158492150878905 accuracy: 48.382\n",
      "Training - Epoch: 44 loss: 1.411091488647461 accuracy: 48.86\n",
      "Training - Epoch: 45 loss: 1.4037010986328124 accuracy: 49.164\n",
      "Training - Epoch: 46 loss: 1.4016164038085936 accuracy: 49.336\n",
      "Training - Epoch: 47 loss: 1.3948777075195313 accuracy: 49.512\n",
      "Training - Epoch: 48 loss: 1.3892245184326173 accuracy: 49.444\n",
      "Training - Epoch: 49 loss: 1.3868507739257812 accuracy: 49.882\n",
      "Training - Epoch: 50 loss: 1.3832833209228517 accuracy: 50.112\n"
     ]
    }
   ],
   "source": [
    "epoch=50\n",
    "model = CnnNet3().to(device)\n",
    "optimizer = optim.Adadelta(model.parameters(), lr=0.01)\n",
    "scheduler = StepLR(optimizer, step_size=1, gamma=0.1)\n",
    "loss = nn.CrossEntropyLoss()\n",
    "train_loss_3, accuracy_train_3, _, _ = returnModelAccAndLoss(model, device, train_loader, test_loader, optimizer, loss, epoch, scheduler)"
   ]
  },
  {
   "cell_type": "code",
   "execution_count": 19,
   "id": "4c0e0540",
   "metadata": {},
   "outputs": [
    {
     "data": {
      "image/png": "[encoded data removed]",
      "text/plain": [
       "<Figure size 720x432 with 1 Axes>"
      ]
     },
     "metadata": {
      "needs_background": "light"
     },
     "output_type": "display_data"
    }
   ],
   "source": [
    "import matplotlib.pyplot as plt\n",
    "plt1=plt.figure(figsize=(10, 6))\n",
    "plt.plot(np.array(train_loss_1), 'r', label='model1')\n",
    "plt.plot(np.array(train_loss_2), 'b', label='model2')\n",
    "plt.plot(np.array(train_loss_3), 'y', label='model3')\n",
    "\n",
    "# naming the x axis\n",
    "plt.xlabel('Epochs')\n",
    "# naming the y axis\n",
    "plt.ylabel('Loss') \n",
    "plt.legend()\n",
    "plt.title(\"Loss function For CIFAR10\")\n",
    "plt.show()\n",
    "\n",
    "\n"
   ]
  },
  {
   "cell_type": "code",
   "execution_count": 20,
   "id": "abc65401",
   "metadata": {},
   "outputs": [
    {
     "data": {
      "image/png": "[encoded data removed]",
      "text/plain": [
       "<Figure size 720x432 with 1 Axes>"
      ]
     },
     "metadata": {
      "needs_background": "light"
     },
     "output_type": "display_data"
    }
   ],
   "source": [
    "plt1=plt.figure(figsize=(10, 6))\n",
    "plt.plot(np.array(accuracy_train_1), 'r', label='model1')\n",
    "plt.plot(np.array(accuracy_train_2), 'b', label='model2')\n",
    "plt.plot(np.array(accuracy_train_3), 'y', label='model3')\n",
    "\n",
    "# naming the x axis\n",
    "plt.xlabel('Epochs')\n",
    "# naming the y axis\n",
    "plt.ylabel('Accuracy') \n",
    "plt.legend()\n",
    "plt.title(\"Accuracy function For CIFAR10\")\n",
    "plt.show()"
   ]
  },
  {
   "cell_type": "code",
   "execution_count": null,
   "id": "c332d6ae",
   "metadata": {},
   "outputs": [],
   "source": []
  },
  {
   "cell_type": "code",
   "execution_count": null,
   "id": "318e14dc",
   "metadata": {},
   "outputs": [],
   "source": []
  }
 ],
 "metadata": {
  "kernelspec": {
   "display_name": "Python 3 (ipykernel)",
   "language": "python",
   "name": "python3"
  },
  "language_info": {
   "codemirror_mode": {
    "name": "ipython",
    "version": 3
   },
   "file_extension": ".py",
   "mimetype": "text/x-python",
   "name": "python",
   "nbconvert_exporter": "python",
   "pygments_lexer": "ipython3",
   "version": "3.8.12"
  }
 },
 "nbformat": 4,
 "nbformat_minor": 5
}
