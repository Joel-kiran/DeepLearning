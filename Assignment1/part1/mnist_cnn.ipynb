{
 "cells": [
  {
   "cell_type": "code",
   "execution_count": 1,
   "id": "a54982bd",
   "metadata": {},
   "outputs": [],
   "source": [
    "from __future__ import print_function\n",
    "import argparse\n",
    "import torch\n",
    "import numpy as np\n",
    "import torch.nn as nn\n",
    "import torch.nn.functional as F\n",
    "import torch.optim as optim\n",
    "from torchvision import datasets, transforms\n",
    "from torch.optim.lr_scheduler import StepLR"
   ]
  },
  {
   "cell_type": "code",
   "execution_count": 11,
   "id": "688b3818",
   "metadata": {},
   "outputs": [],
   "source": [
    "class CnnNet(nn.Module):\n",
    "    def __init__(self):\n",
    "        super(CnnNet, self).__init__()\n",
    "        self.conv1 = nn.Conv2d(1, 32, 3, 1)\n",
    "        self.conv2 = nn.Conv2d(32, 64, 3, 1)\n",
    "        self.dropout1 = nn.Dropout(0.25)\n",
    "        self.dropout2 = nn.Dropout(0.5)\n",
    "        self.fc1 = nn.Linear(9216, 128)\n",
    "        self.fc2 = nn.Linear(128, 10)\n",
    "\n",
    "    def forward(self, x):\n",
    "        x = self.conv1(x)\n",
    "        x = F.relu(x)\n",
    "        x = self.conv2(x)\n",
    "        x = F.relu(x)\n",
    "        x = F.max_pool2d(x, 2)\n",
    "        x = self.dropout1(x)\n",
    "        x = torch.flatten(x, 1)\n",
    "        x = self.fc1(x)\n",
    "        x = F.relu(x)\n",
    "        x = self.dropout2(x)\n",
    "        x = self.fc2(x)\n",
    "        output = F.log_softmax(x, dim=1)\n",
    "        return output"
   ]
  },
  {
   "cell_type": "code",
   "execution_count": 33,
   "id": "025d5380",
   "metadata": {},
   "outputs": [],
   "source": [
    "class CnnNet2(nn.Module):\n",
    "    def __init__(self):\n",
    "        super(CnnNet2, self).__init__()\n",
    "        self.conv1 = nn.Conv2d(1, 32, 3, 1)\n",
    "        self.conv2 = nn.Conv2d(32, 64, 3, 1)\n",
    "        self.conv3 = nn.Conv2d(64, 128, 3, 1)\n",
    "        self.dropout1 = nn.Dropout(0.25)\n",
    "        self.dropout2 = nn.Dropout(0.5)\n",
    "        self.fc1 = nn.Linear(3200, 128)\n",
    "        self.fc2 = nn.Linear(128, 10)\n",
    "\n",
    "    def forward(self, x):\n",
    "        x = self.conv1(x)\n",
    "        x = F.relu(x)\n",
    "        x = self.conv2(x)\n",
    "        x = F.relu(x)\n",
    "        x = F.max_pool2d(x, 2)\n",
    "        x = self.conv3(x)\n",
    "        x = F.max_pool2d(x, 2)\n",
    "        x = self.dropout1(x)\n",
    "        x = x.view(x.shape[0], -1)\n",
    "        x = self.fc1(x)\n",
    "        x = F.relu(x)\n",
    "        x = self.dropout2(x)\n",
    "        x = self.fc2(x)\n",
    "        output = F.log_softmax(x, dim=1)\n",
    "        return output"
   ]
  },
  {
   "cell_type": "code",
   "execution_count": 42,
   "id": "0a9948f0",
   "metadata": {},
   "outputs": [],
   "source": [
    "class CnnNet3(nn.Module):\n",
    "    def __init__(self):\n",
    "        super(CnnNet3, self).__init__()\n",
    "        self.conv1 = nn.Conv2d(1, 32, 3, 1)\n",
    "        self.dropout1 = nn.Dropout(0.25)\n",
    "        self.dropout2 = nn.Dropout(0.5)\n",
    "        self.fc1 = nn.Linear(5408, 128)\n",
    "        self.fc2 = nn.Linear(128, 10)\n",
    "\n",
    "    def forward(self, x):\n",
    "        x = self.conv1(x)\n",
    "        x = F.relu(x)\n",
    "        x = F.max_pool2d(x, 2)\n",
    "        x = self.dropout1(x)\n",
    "        x = x.view(x.shape[0], -1)\n",
    "        x = self.fc1(x)\n",
    "        x = F.relu(x)\n",
    "        x = self.dropout2(x)\n",
    "        x = self.fc2(x)\n",
    "        output = F.log_softmax(x, dim=1)\n",
    "        return output"
   ]
  },
  {
   "cell_type": "code",
   "execution_count": 24,
   "id": "d430e6ea",
   "metadata": {},
   "outputs": [],
   "source": [
    "def train( model, device, train_loader, optimizer,loss_fn, epoch):\n",
    "    train_loss=0\n",
    "    model.train()\n",
    "    no_batches=0\n",
    "    correct = 0\n",
    "    for batch_idx, (data, target) in enumerate(train_loader):\n",
    "        data, target = data.to(device), target.to(device)\n",
    "        optimizer.zero_grad()\n",
    "        output = model(data)\n",
    "        loss = loss_fn(output, target)\n",
    "        train_loss+=loss.item()\n",
    "        no_batches+=1\n",
    "        loss.backward()\n",
    "        optimizer.step()\n",
    "        pred = output.argmax(dim=1, keepdim=True)  # get the index of the max log-probability\n",
    "        correct += pred.eq(target.view_as(pred)).sum().item()\n",
    "    print(\"Epoch:\", epoch, \"sum loss:\", train_loss, \"batches\", no_batches, \"loss:\", train_loss/no_batches,\n",
    "         \"accuracy:\", 100. * correct / len(train_loader.dataset))  \n",
    "    return train_loss/no_batches, 100. * correct / len(train_loader.dataset)\n",
    "\n",
    "def test(model, device, test_loader):\n",
    "    model.eval()\n",
    "    test_loss = 0\n",
    "    correct = 0\n",
    "    loss_fn = nn.CrossEntropyLoss(reduction='sum')\n",
    "    with torch.no_grad():\n",
    "        for data, target in test_loader:\n",
    "            data, target = data.to(device), target.to(device)\n",
    "            output = model(data)\n",
    "            test_loss += loss_fn(output, target)  # sum up batch loss\n",
    "            pred = output.argmax(dim=1, keepdim=True)  # get the index of the max log-probability\n",
    "            correct += pred.eq(target.view_as(pred)).sum().item()\n",
    "\n",
    "    test_loss /= len(test_loader.dataset)\n",
    "\n",
    "    print('\\nTest set: Average loss: {:.4f}, Accuracy: {}/{} ({:.0f}%)\\n'.format(\n",
    "        test_loss, correct, len(test_loader.dataset),\n",
    "        100. * correct / len(test_loader.dataset)))\n",
    "    return test_loss"
   ]
  },
  {
   "cell_type": "code",
   "execution_count": 25,
   "id": "f82de33f",
   "metadata": {},
   "outputs": [],
   "source": [
    "use_cuda = torch.cuda.is_available()\n",
    "torch.manual_seed(1)\n",
    "\n",
    "device = torch.device(\"cuda\" if use_cuda else \"cpu\")\n",
    "\n",
    "train_kwargs = {'batch_size': 512}\n",
    "test_kwargs = {'batch_size': 512}\n",
    "if use_cuda:\n",
    "    cuda_kwargs = {'num_workers': 1,\n",
    "                   'pin_memory': True,\n",
    "                   'shuffle': True}\n",
    "    train_kwargs.update(cuda_kwargs)\n",
    "    test_kwargs.update(cuda_kwargs)\n",
    "\n",
    "transform=transforms.Compose([\n",
    "        transforms.ToTensor()\n",
    "        ])\n",
    "dataset1 = datasets.MNIST('../data', train=True, download=True, transform=transform)\n",
    "dataset2 = datasets.MNIST('../data', train=False, transform=transform)\n",
    "train_loader = torch.utils.data.DataLoader(dataset1,**train_kwargs)\n",
    "test_loader = torch.utils.data.DataLoader(dataset2, **test_kwargs)"
   ]
  },
  {
   "cell_type": "code",
   "execution_count": 35,
   "id": "7dc0c542",
   "metadata": {},
   "outputs": [],
   "source": [
    "def returnModelAccAndLoss(model, device, train_loader, test_loader, optimizer, loss, epoch, scheduler):\n",
    "    train_loss=[]\n",
    "    test_loss=[]\n",
    "    accuracy_train=[]\n",
    "    accuracy_test=[]\n",
    "    for epoch in range(1, epoch+1):\n",
    "        tr_loss, tr_accuracy=train(model, device, train_loader, optimizer, loss, epoch)\n",
    "        train_loss.append(tr_loss)\n",
    "        accuracy_train.append(tr_accuracy)\n",
    "    return train_loss, accuracy_train, test_loss, accuracy_test"
   ]
  },
  {
   "cell_type": "code",
   "execution_count": 27,
   "id": "4eea1227",
   "metadata": {},
   "outputs": [
    {
     "name": "stdout",
     "output_type": "stream",
     "text": [
      "Epoch: 1 sum loss: 69.72186927497387 batches 118 loss: 0.5908632989404565 accuracy: 81.26833333333333\n",
      "Epoch: 2 sum loss: 19.5550332441926 batches 118 loss: 0.1657206207134966 accuracy: 95.125\n",
      "Epoch: 3 sum loss: 17.28120557591319 batches 118 loss: 0.14645089471112874 accuracy: 95.725\n",
      "Epoch: 4 sum loss: 17.03412303328514 batches 118 loss: 0.14435697485834864 accuracy: 95.73666666666666\n",
      "Epoch: 5 sum loss: 17.229592509567738 batches 118 loss: 0.1460134958437944 accuracy: 95.75833333333334\n",
      "Epoch: 6 sum loss: 16.84219517558813 batches 118 loss: 0.14273046758972993 accuracy: 95.82166666666667\n",
      "Epoch: 7 sum loss: 17.027301844209433 batches 118 loss: 0.14429916817126637 accuracy: 95.74166666666666\n",
      "Epoch: 8 sum loss: 17.374990098178387 batches 118 loss: 0.14724567879812192 accuracy: 95.68166666666667\n",
      "Epoch: 9 sum loss: 16.824120845645666 batches 118 loss: 0.1425772953020819 accuracy: 95.82166666666667\n",
      "Epoch: 10 sum loss: 17.395383086055517 batches 118 loss: 0.14741850072928406 accuracy: 95.75166666666667\n"
     ]
    }
   ],
   "source": [
    "epoch=10\n",
    "model = CnnNet().to(device)\n",
    "optimizer = optim.Adadelta(model.parameters(), lr=1)\n",
    "scheduler = StepLR(optimizer, step_size=1, gamma=0.1)\n",
    "loss = nn.CrossEntropyLoss()\n",
    "train_loss_1, accuracy_train_1, _, _ = returnModelAccAndLoss(model, device, train_loader, test_loader, optimizer, loss, epoch, scheduler)\n"
   ]
  },
  {
   "cell_type": "code",
   "execution_count": 36,
   "id": "20c3b62f",
   "metadata": {},
   "outputs": [
    {
     "name": "stdout",
     "output_type": "stream",
     "text": [
      "Epoch: 1 sum loss: 270.791796207428 batches 118 loss: 2.2948457305714234 accuracy: 17.061666666666667\n",
      "Epoch: 2 sum loss: 266.5362663269043 batches 118 loss: 2.2587819180246127 accuracy: 28.048333333333332\n",
      "Epoch: 3 sum loss: 245.16134786605835 batches 118 loss: 2.0776385412377825 accuracy: 43.39\n",
      "Epoch: 4 sum loss: 159.6167612671852 batches 118 loss: 1.3526844175185186 accuracy: 60.47\n",
      "Epoch: 5 sum loss: 98.0570502281189 batches 118 loss: 0.8309919510857534 accuracy: 74.12666666666667\n",
      "Epoch: 6 sum loss: 76.79166251420975 batches 118 loss: 0.6507768009678793 accuracy: 79.66666666666667\n",
      "Epoch: 7 sum loss: 65.74764540791512 batches 118 loss: 0.5571834356602976 accuracy: 82.68333333333334\n",
      "Epoch: 8 sum loss: 58.46742531657219 batches 118 loss: 0.49548665522518803 accuracy: 84.69666666666667\n",
      "Epoch: 9 sum loss: 54.097974091768265 batches 118 loss: 0.4584574075573582 accuracy: 85.95833333333333\n",
      "Epoch: 10 sum loss: 50.50984637439251 batches 118 loss: 0.42804954554569924 accuracy: 86.89166666666667\n"
     ]
    }
   ],
   "source": [
    "epoch=10\n",
    "model = CnnNet2().to(device)\n",
    "optimizer = optim.Adadelta(model.parameters(), lr=0.01)\n",
    "scheduler = StepLR(optimizer, step_size=1, gamma=0.1)\n",
    "loss = nn.CrossEntropyLoss()\n",
    "train_loss_2, accuracy_train_2, _, _ = returnModelAccAndLoss(model, device, train_loader, test_loader, optimizer, loss, epoch, scheduler)\n"
   ]
  },
  {
   "cell_type": "code",
   "execution_count": 43,
   "id": "8103a531",
   "metadata": {},
   "outputs": [
    {
     "name": "stdout",
     "output_type": "stream",
     "text": [
      "Epoch: 1 sum loss: 256.4045339822769 batches 118 loss: 2.1729197795108215 accuracy: 34.27166666666667\n",
      "Epoch: 2 sum loss: 209.75759851932526 batches 118 loss: 1.7776067671129259 accuracy: 59.73166666666667\n",
      "Epoch: 3 sum loss: 156.91461551189423 batches 118 loss: 1.3297848772194425 accuracy: 68.40666666666667\n",
      "Epoch: 4 sum loss: 119.73726850748062 batches 118 loss: 1.0147226144701749 accuracy: 73.585\n",
      "Epoch: 5 sum loss: 99.06696319580078 batches 118 loss: 0.8395505355576337 accuracy: 76.81666666666666\n",
      "Epoch: 6 sum loss: 86.2882187962532 batches 118 loss: 0.7312560914936712 accuracy: 79.09\n",
      "Epoch: 7 sum loss: 77.83270198106766 batches 118 loss: 0.6595991693310819 accuracy: 80.98333333333333\n",
      "Epoch: 8 sum loss: 72.0476987361908 batches 118 loss: 0.6105737181033118 accuracy: 82.14166666666667\n",
      "Epoch: 9 sum loss: 67.69399982690811 batches 118 loss: 0.5736779646348145 accuracy: 83.19\n",
      "Epoch: 10 sum loss: 64.44741907715797 batches 118 loss: 0.5461645684504913 accuracy: 83.87833333333333\n"
     ]
    }
   ],
   "source": [
    "epoch=10\n",
    "model = CnnNet3().to(device)\n",
    "optimizer = optim.Adadelta(model.parameters(), lr=0.01)\n",
    "scheduler = StepLR(optimizer, step_size=1, gamma=0.1)\n",
    "loss = nn.CrossEntropyLoss()\n",
    "train_loss_3, accuracy_train_3, _, _ = returnModelAccAndLoss(model, device, train_loader, test_loader, optimizer, loss, epoch, scheduler)\n"
   ]
  },
  {
   "cell_type": "code",
   "execution_count": 46,
   "id": "9bd29c8a",
   "metadata": {},
   "outputs": [
    {
     "data": {
      "image/png": "[encoded data removed]",
      "text/plain": [
       "<Figure size 720x432 with 1 Axes>"
      ]
     },
     "metadata": {
      "needs_background": "light"
     },
     "output_type": "display_data"
    }
   ],
   "source": [
    "import matplotlib.pyplot as plt\n",
    "plt1=plt.figure(figsize=(10, 6))\n",
    "plt.plot(np.array(train_loss_1), 'r', label='model1')\n",
    "plt.plot(np.array(train_loss_2), 'b', label='model2')\n",
    "plt.plot(np.array(train_loss_3), 'y', label='model3')\n",
    "\n",
    "# naming the x axis\n",
    "plt.xlabel('Epochs')\n",
    "# naming the y axis\n",
    "plt.ylabel('Loss') \n",
    "plt.legend()\n",
    "plt.title(\"Loss function For MNIST\")\n",
    "plt.show()\n",
    "\n"
   ]
  },
  {
   "cell_type": "code",
   "execution_count": 47,
   "id": "19408e3f",
   "metadata": {},
   "outputs": [
    {
     "data": {
      "image/png": "[encoded data removed]",
      "text/plain": [
       "<Figure size 720x432 with 1 Axes>"
      ]
     },
     "metadata": {
      "needs_background": "light"
     },
     "output_type": "display_data"
    }
   ],
   "source": [
    "plt1=plt.figure(figsize=(10, 6))\n",
    "plt.plot(np.array(accuracy_train_1), 'r', label='model1')\n",
    "plt.plot(np.array(accuracy_train_2), 'b', label='model2')\n",
    "plt.plot(np.array(accuracy_train_3), 'y', label='model3')\n",
    "\n",
    "# naming the x axis\n",
    "plt.xlabel('Epochs')\n",
    "# naming the y axis\n",
    "plt.ylabel('Accuracy') \n",
    "plt.legend()\n",
    "plt.title(\"Accuracy function For MNIST\")\n",
    "plt.show()"
   ]
  },
  {
   "cell_type": "code",
   "execution_count": null,
   "id": "d6992675",
   "metadata": {},
   "outputs": [],
   "source": []
  },
  {
   "cell_type": "code",
   "execution_count": null,
   "id": "98dc0a5e",
   "metadata": {},
   "outputs": [],
   "source": []
  },
  {
   "cell_type": "code",
   "execution_count": null,
   "id": "4e434791",
   "metadata": {},
   "outputs": [],
   "source": []
  }
 ],
 "metadata": {
  "kernelspec": {
   "display_name": "Python 3 (ipykernel)",
   "language": "python",
   "name": "python3"
  },
  "language_info": {
   "codemirror_mode": {
    "name": "ipython",
    "version": 3
   },
   "file_extension": ".py",
   "mimetype": "text/x-python",
   "name": "python",
   "nbconvert_exporter": "python",
   "pygments_lexer": "ipython3",
   "version": "3.8.12"
  }
 },
 "nbformat": 4,
 "nbformat_minor": 5
}
